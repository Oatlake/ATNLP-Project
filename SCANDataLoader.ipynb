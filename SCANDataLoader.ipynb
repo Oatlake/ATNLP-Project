{
 "cells": [
  {
   "cell_type": "markdown",
   "metadata": {},
   "source": [
    "## Data Loader for SCAN Dataset"
   ]
  },
  {
   "cell_type": "code",
   "execution_count": 2,
   "metadata": {},
   "outputs": [],
   "source": [
    "import torch\n",
    "from torch.utils.data import Dataset, DataLoader"
   ]
  },
  {
   "cell_type": "code",
   "execution_count": 5,
   "metadata": {},
   "outputs": [],
   "source": [
    "class SCANdataset(Dataset):\n",
    "    def __init__(self, file_path):\n",
    "        self.data = []\n",
    "\n",
    "        # parsing\n",
    "        with open(file_path, 'r') as file:\n",
    "            for line in file:\n",
    "                line = line.strip() \n",
    "                if line.startswith(\"IN:\") and \"OUT:\" in line:\n",
    "                    input= line.split(\"IN:\")[1].split(\"OUT:\")[0].strip()\n",
    "                    output = line.split(\"OUT:\")[1].strip()\n",
    "                    self.data.append((input, output))"
   ]
  }
 ],
 "metadata": {
  "kernelspec": {
   "display_name": "base",
   "language": "python",
   "name": "python3"
  },
  "language_info": {
   "codemirror_mode": {
    "name": "ipython",
    "version": 3
   },
   "file_extension": ".py",
   "mimetype": "text/x-python",
   "name": "python",
   "nbconvert_exporter": "python",
   "pygments_lexer": "ipython3",
   "version": "3.11.4"
  }
 },
 "nbformat": 4,
 "nbformat_minor": 2
}
